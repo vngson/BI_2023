{
 "cells": [
  {
   "cell_type": "code",
   "execution_count": 2,
   "metadata": {},
   "outputs": [],
   "source": [
    "!python -m venv venv"
   ]
  },
  {
   "cell_type": "code",
   "execution_count": 3,
   "metadata": {},
   "outputs": [],
   "source": [
    "!venv\\Scripts\\activate"
   ]
  },
  {
   "cell_type": "code",
   "execution_count": 4,
   "metadata": {},
   "outputs": [
    {
     "name": "stdout",
     "output_type": "stream",
     "text": [
      "Requirement already satisfied: pyodbc in c:\\users\\thuan\\appdata\\local\\programs\\python\\python39\\lib\\site-packages (5.0.1)\n",
      "Requirement already satisfied: pandas in c:\\users\\thuan\\appdata\\local\\programs\\python\\python39\\lib\\site-packages (2.1.2)\n",
      "Requirement already satisfied: pytz>=2020.1 in c:\\users\\thuan\\appdata\\local\\programs\\python\\python39\\lib\\site-packages (from pandas) (2023.3.post1)\n",
      "Requirement already satisfied: numpy<2,>=1.22.4; python_version < \"3.11\" in c:\\users\\thuan\\appdata\\local\\programs\\python\\python39\\lib\\site-packages (from pandas) (1.26.1)\n",
      "Requirement already satisfied: python-dateutil>=2.8.2 in c:\\users\\thuan\\appdata\\roaming\\python\\python39\\site-packages (from pandas) (2.8.2)\n",
      "Requirement already satisfied: tzdata>=2022.1 in c:\\users\\thuan\\appdata\\local\\programs\\python\\python39\\lib\\site-packages (from pandas) (2023.3)\n",
      "Requirement already satisfied: six>=1.5 in c:\\users\\thuan\\appdata\\roaming\\python\\python39\\site-packages (from python-dateutil>=2.8.2->pandas) (1.16.0)\n",
      "Note: you may need to restart the kernel to use updated packages.\n"
     ]
    },
    {
     "name": "stderr",
     "output_type": "stream",
     "text": [
      "WARNING: You are using pip version 20.2.3; however, version 23.3.2 is available.\n",
      "You should consider upgrading via the 'c:\\Users\\Thuan\\AppData\\Local\\Programs\\Python\\Python39\\python.exe -m pip install --upgrade pip' command.\n"
     ]
    },
    {
     "name": "stdout",
     "output_type": "stream",
     "text": [
      "Requirement already satisfied: adodbapi in c:\\users\\thuan\\appdata\\local\\programs\\python\\python39\\lib\\site-packages (2.6.2.0)\n",
      "Note: you may need to restart the kernel to use updated packages.\n"
     ]
    },
    {
     "name": "stderr",
     "output_type": "stream",
     "text": [
      "WARNING: You are using pip version 20.2.3; however, version 23.3.2 is available.\n",
      "You should consider upgrading via the 'c:\\Users\\Thuan\\AppData\\Local\\Programs\\Python\\Python39\\python.exe -m pip install --upgrade pip' command.\n"
     ]
    }
   ],
   "source": [
    "%pip install pyodbc pandas\n",
    "%pip install adodbapi"
   ]
  },
  {
   "cell_type": "code",
   "execution_count": 5,
   "metadata": {},
   "outputs": [],
   "source": [
    "import adodbapi\n",
    "import pandas as pd\n",
    "from sklearn.model_selection import train_test_split\n",
    "from sklearn.metrics import mean_squared_error\n",
    "from sklearn.linear_model import LinearRegression"
   ]
  },
  {
   "cell_type": "code",
   "execution_count": 6,
   "metadata": {},
   "outputs": [],
   "source": [
    "server = \"REVISION-PC\"\n",
    "catalog = \"2023_CQ_BI_13_OLAP\"\n",
    "cube = \"CQ BI 13 DDS\"\n",
    "\n",
    "conn_str = f\"Provider=MSOLAP;Data Source={server};Initial Catalog={catalog};\""
   ]
  },
  {
   "cell_type": "code",
   "execution_count": 7,
   "metadata": {},
   "outputs": [
    {
     "name": "stdout",
     "output_type": "stream",
     "text": [
      "Mean Squared Error: 9.921166522352237\n"
     ]
    }
   ],
   "source": [
    "# Predict the number of products that will be sold\n",
    "try:\n",
    "    with adodbapi.connect(conn_str) as conn:\n",
    "        cursor = conn.cursor()\n",
    "        \n",
    "        sql_stmt = \"\"\"\n",
    "            SELECT NON EMPTY { [Measures].[Total Sold Products] } ON COLUMNS, \n",
    "            NON EMPTY { \n",
    "                (\n",
    "                    [Dim Product].[Product Id].[Product Id].ALLMEMBERS\n",
    "                    * [Dim Branch].[Branch Id].[Branch Id].ALLMEMBERS\n",
    "                    * [Dim Payment Type].[Payment Type Id].[Payment Type Id].ALLMEMBERS \n",
    "                    * [Dim Customer Type].[Customer Type Id].[Customer Type Id].ALLMEMBERS\n",
    "                    * [Dim Datetime].[Day Number].[Day Number].ALLMEMBERS \n",
    "                    * [Dim Datetime].[Month Number].[Month Number].ALLMEMBERS \n",
    "                    * [Dim Datetime].[Year Number].[Year Number].ALLMEMBERS \n",
    "                ) \n",
    "            } DIMENSION PROPERTIES MEMBER_CAPTION, MEMBER_UNIQUE_NAME ON ROWS \n",
    "            FROM [CQ BI 13 DDS]\n",
    "        \"\"\"\n",
    "\n",
    "        cursor.execute(sql_stmt)\n",
    "        rows = cursor.fetchall()\n",
    "\n",
    "    result = [\n",
    "        {\n",
    "            \"product_id\": row[0],\n",
    "            \"branch_id\": row[2],\n",
    "            \"payment_type_id\": row[4],\n",
    "            \"customer_type_id\": row[6],\n",
    "            \"day\": row[8],\n",
    "            \"month\": row[10],\n",
    "            \"year\": row[12],\n",
    "            \"total_sold_products\": row[14]\n",
    "        } for row in rows\n",
    "    ]\n",
    "\n",
    "    df = pd.DataFrame(result)\n",
    "    y = df[\"total_sold_products\"]\n",
    "    X = df.drop([\"total_sold_products\"], axis=1)\n",
    "    X_train, X_test, y_train, y_test = train_test_split(X, y, test_size=0.2, random_state=42)\n",
    "    \n",
    "    model = LinearRegression()\n",
    "    model.fit(X_train, y_train)\n",
    "    predictions = model.predict(X_test)\n",
    "    mse = mean_squared_error(y_test, predictions)\n",
    "    print(f\"Mean Squared Error: {mse}\")\n",
    "\n",
    "except adodbapi.DatabaseError as ex:\n",
    "    print(\"Connection error:\", ex)\n"
   ]
  },
  {
   "cell_type": "code",
   "execution_count": 8,
   "metadata": {},
   "outputs": [
    {
     "name": "stdout",
     "output_type": "stream",
     "text": [
      "[5.55171889]\n"
     ]
    },
    {
     "name": "stderr",
     "output_type": "stream",
     "text": [
      "c:\\Users\\Thuan\\AppData\\Local\\Programs\\Python\\Python39\\lib\\site-packages\\sklearn\\base.py:465: UserWarning: X does not have valid feature names, but LinearRegression was fitted with feature names\n",
      "  warnings.warn(\n"
     ]
    }
   ],
   "source": [
    "prediction = model.predict([[2, 1, 3, 1, 27, 1, 2019]])\n",
    "print(prediction)"
   ]
  },
  {
   "cell_type": "code",
   "execution_count": 9,
   "metadata": {},
   "outputs": [],
   "source": [
    "# # Detect shopping trends and predict sales.\n",
    "\n",
    "# with adodbapi.connect(conn_str) as conn:\n",
    "#     cursor = conn.cursor()\n",
    "    \n",
    "#     sql_stmt = \"\"\"\n",
    "#         SELECT NON EMPTY { \n",
    "#             [Measures].[Total Sold Products], \n",
    "#             [Measures].[Total Rating Score], \n",
    "#             [Measures].[Total Purchase Times], \n",
    "#             [Measures].[Total Income], \n",
    "#             [Measures].[Total Female Customers] \n",
    "#         } ON COLUMNS, \n",
    "#         NON EMPTY { \n",
    "#             (\n",
    "#                 [Dim Product].[Product Id].[Product Id].ALLMEMBERS\n",
    "#             )\n",
    "#         } DIMENSION PROPERTIES MEMBER_CAPTION, MEMBER_UNIQUE_NAME ON ROWS \n",
    "#         FROM [CQ BI 13 DDS]\n",
    "#     \"\"\"\n",
    "\n",
    "#     cursor.execute(sql_stmt)\n",
    "#     rows = cursor.fetchall()\n",
    "\n",
    "# result = []\n",
    "\n",
    "# for row in rows:\n",
    "#     result.append(\n",
    "#         {\n",
    "#             \"product_id\": row[0],\n",
    "#             \"total_sold_products\": row[2],\n",
    "#             \"total_rating_score\": row[3],\n",
    "#             \"total_purchase_times\": row[4],\n",
    "#             \"total_income\": row[5],\n",
    "#             \"total_female_customers\": row[6]\n",
    "#         }\n",
    "#     )\n",
    "\n",
    "# selected_columns = [\n",
    "#     'total_sold_products', \n",
    "#     'total_purchase_times', \n",
    "#     'total_income', \n",
    "#     'total_female_customers', \n",
    "#     'product_id',\n",
    "#     'total_rating_score'\n",
    "# ]\n",
    "# df = pd.DataFrame(result)\n",
    "# df = df.dropna(subset=selected_columns)\n",
    "\n",
    "# X = df[selected_columns[:-1]]\n",
    "# y = df['total_rating_score']\n",
    "\n",
    "# X_train, X_test, y_train, y_test = train_test_split(X, y, test_size=0.2, random_state=42)\n",
    "\n",
    "# model = LogisticRegression(random_state=42, max_iter=1000)\n",
    "# model.fit(X_train, y_train)\n",
    "\n",
    "# y_pred = model.predict(X_test)\n",
    "\n",
    "# accuracy = accuracy_score(y_test, y_pred)\n",
    "# report = classification_report(y_test, y_pred)\n",
    "\n",
    "# print(f\"Accuracy: {accuracy}\")\n",
    "# print(\"Classification Report:\")\n",
    "# print(report)\n"
   ]
  }
 ],
 "metadata": {
  "kernelspec": {
   "display_name": "Python 3",
   "language": "python",
   "name": "python3"
  },
  "language_info": {
   "codemirror_mode": {
    "name": "ipython",
    "version": 3
   },
   "file_extension": ".py",
   "mimetype": "text/x-python",
   "name": "python",
   "nbconvert_exporter": "python",
   "pygments_lexer": "ipython3",
   "version": "3.9.0"
  },
  "orig_nbformat": 4
 },
 "nbformat": 4,
 "nbformat_minor": 2
}
